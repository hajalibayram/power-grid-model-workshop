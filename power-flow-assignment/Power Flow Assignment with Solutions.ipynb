{
 "cells": [
  {
   "attachments": {},
   "cell_type": "markdown",
   "id": "a727ce38",
   "metadata": {},
   "source": [
    "# Introduction\n",
    "\n",
    "In this assignment you will be given a series of tasks about using the library `power-grid-model`. The tasks include:\n",
    "\n",
    "1. [Load input](#Assignment-1:-Load-Input-Data)\n",
    "2. [Validate Input Data](#Assignment-2:-Validate-Input-Data)\n",
    "3. [Construct Model](#Assignment-3:-Construct-Model)\n",
    "4. [Calculate One Time Power Flow](#Assignment-4:-Calculate-One-Time-Power-Flow)\n",
    "5. [Time Series Batch Calculation](#Assignment-5:-Time-Series-Batch-Calculation)\n",
    "6. [N 1 Scenario-Batch-Calculation](#Assignment-6:-N-1-Scenario-Batch-Calculation)\n",
    "\n",
    "The input data are CSV files in the `data/` folder:\n",
    "* `node.csv`\n",
    "* `line.csv`\n",
    "* `source.csv`\n",
    "* `sym_load.csv`\n"
   ]
  },
  {
   "attachments": {},
   "cell_type": "markdown",
   "id": "b18d109c",
   "metadata": {},
   "source": [
    "# Preparation\n",
    "\n",
    "First import everything we need for this workshop:"
   ]
  },
  {
   "cell_type": "code",
   "execution_count": 1,
   "id": "fbc50a6d",
   "metadata": {},
   "outputs": [],
   "source": [
    "import time\n",
    "from typing import Dict\n",
    "\n",
    "import numpy as np\n",
    "import pandas as pd\n",
    "import matplotlib.pyplot as plt\n",
    "\n",
    "from power_grid_model import (\n",
    "    PowerGridModel,\n",
    "    CalculationType,\n",
    "    CalculationMethod,\n",
    "    ComponentType,\n",
    "    DatasetType,\n",
    "    initialize_array\n",
    ")\n",
    "\n",
    "from power_grid_model.validation import (\n",
    "    assert_valid_input_data,\n",
    "    assert_valid_batch_data\n",
    ")"
   ]
  },
  {
   "attachments": {},
   "cell_type": "markdown",
   "id": "50065790",
   "metadata": {},
   "source": [
    "Let's define a timer class to easily benchmark the calculations:"
   ]
  },
  {
   "cell_type": "code",
   "execution_count": 2,
   "id": "760a38b1",
   "metadata": {},
   "outputs": [],
   "source": [
    "class Timer:\n",
    "    def __init__(self, name: str):\n",
    "        self.name = name\n",
    "        self.start = None\n",
    "\n",
    "    def __enter__(self):\n",
    "        self.start = time.perf_counter()\n",
    "\n",
    "    def __exit__(self, *args):\n",
    "        print(f'Execution time for {self.name} is {(time.perf_counter() - self.start):0.6f} s')"
   ]
  },
  {
   "attachments": {},
   "cell_type": "markdown",
   "id": "0f33163a",
   "metadata": {},
   "source": [
    "The following example measures the time for a simple add operation of two numpy arrays."
   ]
  },
  {
   "cell_type": "code",
   "execution_count": 3,
   "id": "a61540cd",
   "metadata": {},
   "outputs": [
    {
     "name": "stdout",
     "output_type": "stream",
     "text": [
      "Execution time for Add Operation is 0.002952 s\n"
     ]
    }
   ],
   "source": [
    "a = np.random.rand(1000000)\n",
    "b = np.random.rand(1000000)\n",
    "with Timer(\"Add Operation\"):\n",
    "    c = a + b"
   ]
  },
  {
   "attachments": {},
   "cell_type": "markdown",
   "id": "824a3c36",
   "metadata": {},
   "source": [
    "# Assignment 1: Load Input Data\n",
    "\n",
    "The following function loads the CSV data files from folder `../data/` and convert them into one dictionary of numpy structured arrays. The returned dictionary is a compatible input for the constructor of `PowerGridModel`. Please complete the function to construct the input data which is compatible with `PowerGridModel`."
   ]
  },
  {
   "cell_type": "code",
   "execution_count": 4,
   "id": "2baee3cd",
   "metadata": {},
   "outputs": [
    {
     "name": "stdout",
     "output_type": "stream",
     "text": [
      "ComponentType.node: 2001\n",
      "ComponentType.line: 2000\n",
      "ComponentType.source:    1\n",
      "ComponentType.sym_load: 2000\n",
      "Execution time for Loading Input Data is 0.012547 s\n"
     ]
    }
   ],
   "source": [
    "def load_input_data() -> Dict[str, np.ndarray]:\n",
    "    input_data = {}\n",
    "    for component in [ComponentType.node, ComponentType.line, ComponentType.source, ComponentType.sym_load]:\n",
    "        \n",
    "        # Use pandas to read CSV data\n",
    "        df = pd.read_csv(f'../data/{component.value}.csv')\n",
    "\n",
    "        # Initialize array\n",
    "        input_data[component] = initialize_array(DatasetType.input, component, len(df))\n",
    "\n",
    "        # Fill the attributes\n",
    "        for attr, values in df.items():\n",
    "            input_data[component][attr] = values\n",
    "\n",
    "        # Print some debug info\n",
    "        print(f\"{component:9s}: {len(input_data[component]):4d}\")\n",
    "\n",
    "    return input_data\n",
    "\n",
    "# Load input data\n",
    "with Timer(\"Loading Input Data\"):\n",
    "    input_data = load_input_data()\n"
   ]
  },
  {
   "attachments": {},
   "cell_type": "markdown",
   "id": "728db4b8",
   "metadata": {},
   "source": [
    "# Assignment 2: Validate Input Data\n",
    "\n",
    "It is recommended to validate your data before constructing the `PowerGridModel`. If you are confident about your input data, you can skip this step for performance reasons. The easiest way to validate your input data is using `assert_valid_input_data`, which will raise an exception if there are any errors in your data. Please have a look at the [Validation Examples](https://github.com/PowerGridModel/power-grid-model/blob/main/examples/Validation%20Examples.ipynb) for more detailed information on the validation functions."
   ]
  },
  {
   "cell_type": "code",
   "execution_count": 5,
   "id": "b703c8aa",
   "metadata": {},
   "outputs": [
    {
     "name": "stdout",
     "output_type": "stream",
     "text": [
      "Execution time for Validating Input Data is 0.009321 s\n"
     ]
    }
   ],
   "source": [
    "# Validate input data\n",
    "with Timer(\"Validating Input Data\"):\n",
    "    assert_valid_input_data(input_data=input_data, calculation_type=CalculationType.power_flow)"
   ]
  },
  {
   "attachments": {},
   "cell_type": "markdown",
   "id": "940d48be",
   "metadata": {},
   "source": [
    "# Assignment 3: Construct Model\n",
    "\n",
    "Create an instance of `PowerGridModel` using the input data. Benchmark the construction time."
   ]
  },
  {
   "cell_type": "code",
   "execution_count": 6,
   "id": "71b39571",
   "metadata": {},
   "outputs": [
    {
     "name": "stdout",
     "output_type": "stream",
     "text": [
      "Execution time for Model Construction is 0.002634 s\n",
      "{<ComponentType.node: 'node'>: 2001, <ComponentType.line: 'line'>: 2000, <ComponentType.source: 'source'>: 1, <ComponentType.sym_load: 'sym_load'>: 2000}\n"
     ]
    }
   ],
   "source": [
    "# Construct model\n",
    "with Timer(\"Model Construction\"):\n",
    "    model = PowerGridModel(input_data=input_data)\n",
    "\n",
    "# Print the number of objects\n",
    "print(model.all_component_count)"
   ]
  },
  {
   "attachments": {},
   "cell_type": "markdown",
   "id": "2b013fa7",
   "metadata": {},
   "source": [
    "# Assignment 4: Calculate One-Time Power Flow\n",
    "\n",
    "* Calculate one-time power flow, print the highest and lowest loading of the lines.\n",
    "* Try with Newton-Raphson and linear method, compare the results and speed."
   ]
  },
  {
   "cell_type": "code",
   "execution_count": 7,
   "id": "88034903",
   "metadata": {},
   "outputs": [
    {
     "name": "stdout",
     "output_type": "stream",
     "text": [
      "Execution time for Newton-Raphson Power Flow is 0.003671 s\n",
      "Min line loading: 0.1418844978380699\n",
      "Max line loading: 1.6292378285645368\n"
     ]
    }
   ],
   "source": [
    "# Newton-Raphson Power Flow\n",
    "with Timer(\"Newton-Raphson Power Flow\"):\n",
    "    result = model.calculate_power_flow(calculation_method=CalculationMethod.newton_raphson)\n",
    "    \n",
    "# Print min and max line loading\n",
    "print(\"Min line loading:\", min(result[ComponentType.line][\"loading\"]))\n",
    "print(\"Max line loading:\", max(result[ComponentType.line][\"loading\"]))"
   ]
  },
  {
   "cell_type": "code",
   "execution_count": 8,
   "id": "a8d298d5",
   "metadata": {},
   "outputs": [
    {
     "name": "stdout",
     "output_type": "stream",
     "text": [
      "Execution time for Linear Power Flow is 0.002162 s\n",
      "Min line loading: 0.1395686087394204\n",
      "Max line loading: 1.6156849991055762\n"
     ]
    }
   ],
   "source": [
    "# Linear Power Flow\n",
    "with Timer(\"Linear Power Flow\"):\n",
    "    result = model.calculate_power_flow(calculation_method=CalculationMethod.linear)\n",
    "    \n",
    "# Print min and max line loading\n",
    "print(\"Min line loading:\", min(result[ComponentType.line][\"loading\"]))\n",
    "print(\"Max line loading:\", max(result[ComponentType.line][\"loading\"]))"
   ]
  },
  {
   "attachments": {},
   "cell_type": "markdown",
   "id": "14fcc242",
   "metadata": {},
   "source": [
    "# Assignment 5: Time Series Batch Calculation\n",
    "\n",
    "## Load Profile\n",
    "\n",
    "Below we randomly generate a dataframe of load profile. \n",
    "\n",
    "* The column names are the IDs of `sym_load`\n",
    "* Each row is one scenario\n",
    "* Each entry specifies the active power of the load\n",
    "* The reactive power is zero\n"
   ]
  },
  {
   "cell_type": "code",
   "execution_count": 9,
   "id": "921310a7",
   "metadata": {},
   "outputs": [
    {
     "data": {
      "text/html": [
       "<div>\n",
       "<style scoped>\n",
       "    .dataframe tbody tr th:only-of-type {\n",
       "        vertical-align: middle;\n",
       "    }\n",
       "\n",
       "    .dataframe tbody tr th {\n",
       "        vertical-align: top;\n",
       "    }\n",
       "\n",
       "    .dataframe thead th {\n",
       "        text-align: right;\n",
       "    }\n",
       "</style>\n",
       "<table border=\"1\" class=\"dataframe\">\n",
       "  <thead>\n",
       "    <tr style=\"text-align: right;\">\n",
       "      <th></th>\n",
       "      <th>4002</th>\n",
       "      <th>4003</th>\n",
       "      <th>4004</th>\n",
       "      <th>4005</th>\n",
       "      <th>4006</th>\n",
       "      <th>4007</th>\n",
       "      <th>4008</th>\n",
       "      <th>4009</th>\n",
       "      <th>4010</th>\n",
       "      <th>4011</th>\n",
       "      <th>...</th>\n",
       "      <th>5992</th>\n",
       "      <th>5993</th>\n",
       "      <th>5994</th>\n",
       "      <th>5995</th>\n",
       "      <th>5996</th>\n",
       "      <th>5997</th>\n",
       "      <th>5998</th>\n",
       "      <th>5999</th>\n",
       "      <th>6000</th>\n",
       "      <th>6001</th>\n",
       "    </tr>\n",
       "  </thead>\n",
       "  <tbody>\n",
       "    <tr>\n",
       "      <th>2022-01-01 00:00:00</th>\n",
       "      <td>1.522690e+06</td>\n",
       "      <td>7.365325e+05</td>\n",
       "      <td>1.883955e+06</td>\n",
       "      <td>1.747342e+06</td>\n",
       "      <td>1.235460e+06</td>\n",
       "      <td>1.250241e+06</td>\n",
       "      <td>1.067713e+06</td>\n",
       "      <td>1.307628e+06</td>\n",
       "      <td>1.168910e+06</td>\n",
       "      <td>1.218901e+06</td>\n",
       "      <td>...</td>\n",
       "      <td>1.589131e+06</td>\n",
       "      <td>1.702425e+06</td>\n",
       "      <td>1.148132e+06</td>\n",
       "      <td>8.532146e+05</td>\n",
       "      <td>7.044042e+05</td>\n",
       "      <td>8.186826e+05</td>\n",
       "      <td>8.116150e+05</td>\n",
       "      <td>7.100930e+05</td>\n",
       "      <td>1.203160e+06</td>\n",
       "      <td>1.149239e+06</td>\n",
       "    </tr>\n",
       "    <tr>\n",
       "      <th>2022-01-01 01:00:00</th>\n",
       "      <td>8.881127e+05</td>\n",
       "      <td>1.053687e+06</td>\n",
       "      <td>3.734167e+05</td>\n",
       "      <td>1.614773e+06</td>\n",
       "      <td>1.348900e+06</td>\n",
       "      <td>3.942241e+05</td>\n",
       "      <td>9.418381e+05</td>\n",
       "      <td>-1.287045e+05</td>\n",
       "      <td>7.848680e+05</td>\n",
       "      <td>1.169359e+06</td>\n",
       "      <td>...</td>\n",
       "      <td>4.982993e+05</td>\n",
       "      <td>9.892282e+05</td>\n",
       "      <td>6.087048e+05</td>\n",
       "      <td>1.143115e+06</td>\n",
       "      <td>1.496269e+06</td>\n",
       "      <td>1.504554e+06</td>\n",
       "      <td>4.250855e+05</td>\n",
       "      <td>9.431208e+05</td>\n",
       "      <td>1.697681e+06</td>\n",
       "      <td>1.585010e+06</td>\n",
       "    </tr>\n",
       "    <tr>\n",
       "      <th>2022-01-01 02:00:00</th>\n",
       "      <td>9.811829e+05</td>\n",
       "      <td>1.413438e+06</td>\n",
       "      <td>9.972503e+05</td>\n",
       "      <td>1.233187e+06</td>\n",
       "      <td>1.295709e+06</td>\n",
       "      <td>3.746883e+05</td>\n",
       "      <td>1.720246e+06</td>\n",
       "      <td>1.248101e+06</td>\n",
       "      <td>4.639225e+05</td>\n",
       "      <td>9.123818e+05</td>\n",
       "      <td>...</td>\n",
       "      <td>1.866030e+06</td>\n",
       "      <td>1.744288e+06</td>\n",
       "      <td>1.412359e+06</td>\n",
       "      <td>7.322985e+05</td>\n",
       "      <td>8.552735e+05</td>\n",
       "      <td>9.632037e+05</td>\n",
       "      <td>1.006114e+06</td>\n",
       "      <td>6.947516e+05</td>\n",
       "      <td>7.969410e+05</td>\n",
       "      <td>1.487227e+06</td>\n",
       "    </tr>\n",
       "    <tr>\n",
       "      <th>2022-01-01 03:00:00</th>\n",
       "      <td>1.594312e+06</td>\n",
       "      <td>1.711561e+06</td>\n",
       "      <td>7.238942e+05</td>\n",
       "      <td>6.706983e+05</td>\n",
       "      <td>2.852392e+05</td>\n",
       "      <td>8.300269e+05</td>\n",
       "      <td>1.148656e+06</td>\n",
       "      <td>1.037572e+06</td>\n",
       "      <td>1.086457e+06</td>\n",
       "      <td>1.633151e+06</td>\n",
       "      <td>...</td>\n",
       "      <td>1.190132e+06</td>\n",
       "      <td>1.383107e+06</td>\n",
       "      <td>7.801834e+05</td>\n",
       "      <td>9.776243e+05</td>\n",
       "      <td>2.293418e+06</td>\n",
       "      <td>9.743710e+05</td>\n",
       "      <td>1.804552e+06</td>\n",
       "      <td>7.211640e+05</td>\n",
       "      <td>1.145045e+06</td>\n",
       "      <td>1.421976e+06</td>\n",
       "    </tr>\n",
       "    <tr>\n",
       "      <th>2022-01-01 04:00:00</th>\n",
       "      <td>4.667720e+05</td>\n",
       "      <td>1.128695e+06</td>\n",
       "      <td>1.028832e+06</td>\n",
       "      <td>5.444642e+05</td>\n",
       "      <td>1.052969e+05</td>\n",
       "      <td>5.439632e+05</td>\n",
       "      <td>1.916725e+06</td>\n",
       "      <td>1.075958e+06</td>\n",
       "      <td>9.885185e+05</td>\n",
       "      <td>1.375559e+06</td>\n",
       "      <td>...</td>\n",
       "      <td>5.633235e+05</td>\n",
       "      <td>5.196102e+05</td>\n",
       "      <td>4.177027e+05</td>\n",
       "      <td>1.353726e+06</td>\n",
       "      <td>7.087020e+05</td>\n",
       "      <td>7.139034e+05</td>\n",
       "      <td>8.842609e+05</td>\n",
       "      <td>7.882466e+05</td>\n",
       "      <td>-8.232680e+04</td>\n",
       "      <td>1.445546e+06</td>\n",
       "    </tr>\n",
       "    <tr>\n",
       "      <th>...</th>\n",
       "      <td>...</td>\n",
       "      <td>...</td>\n",
       "      <td>...</td>\n",
       "      <td>...</td>\n",
       "      <td>...</td>\n",
       "      <td>...</td>\n",
       "      <td>...</td>\n",
       "      <td>...</td>\n",
       "      <td>...</td>\n",
       "      <td>...</td>\n",
       "      <td>...</td>\n",
       "      <td>...</td>\n",
       "      <td>...</td>\n",
       "      <td>...</td>\n",
       "      <td>...</td>\n",
       "      <td>...</td>\n",
       "      <td>...</td>\n",
       "      <td>...</td>\n",
       "      <td>...</td>\n",
       "      <td>...</td>\n",
       "      <td>...</td>\n",
       "    </tr>\n",
       "    <tr>\n",
       "      <th>2022-02-11 11:00:00</th>\n",
       "      <td>6.554215e+05</td>\n",
       "      <td>1.519971e+06</td>\n",
       "      <td>7.346373e+05</td>\n",
       "      <td>2.468342e+05</td>\n",
       "      <td>1.391215e+06</td>\n",
       "      <td>2.756525e+05</td>\n",
       "      <td>1.064843e+06</td>\n",
       "      <td>1.632632e+06</td>\n",
       "      <td>2.255325e+06</td>\n",
       "      <td>3.975464e+05</td>\n",
       "      <td>...</td>\n",
       "      <td>3.516876e+05</td>\n",
       "      <td>9.236746e+05</td>\n",
       "      <td>1.067935e+06</td>\n",
       "      <td>1.237977e+06</td>\n",
       "      <td>4.839377e+05</td>\n",
       "      <td>1.140204e+06</td>\n",
       "      <td>1.391819e+06</td>\n",
       "      <td>1.668330e+06</td>\n",
       "      <td>6.788123e+05</td>\n",
       "      <td>1.408043e+06</td>\n",
       "    </tr>\n",
       "    <tr>\n",
       "      <th>2022-02-11 12:00:00</th>\n",
       "      <td>1.059431e+06</td>\n",
       "      <td>6.340614e+05</td>\n",
       "      <td>1.400879e+06</td>\n",
       "      <td>1.494647e+05</td>\n",
       "      <td>8.775668e+05</td>\n",
       "      <td>1.161970e+06</td>\n",
       "      <td>9.090381e+05</td>\n",
       "      <td>6.548579e+05</td>\n",
       "      <td>5.131747e+05</td>\n",
       "      <td>2.268062e+05</td>\n",
       "      <td>...</td>\n",
       "      <td>3.092005e+05</td>\n",
       "      <td>8.351009e+05</td>\n",
       "      <td>1.194604e+05</td>\n",
       "      <td>1.132886e+06</td>\n",
       "      <td>3.542770e+05</td>\n",
       "      <td>8.243507e+05</td>\n",
       "      <td>6.221985e+05</td>\n",
       "      <td>1.249335e+06</td>\n",
       "      <td>8.687152e+05</td>\n",
       "      <td>2.072785e+05</td>\n",
       "    </tr>\n",
       "    <tr>\n",
       "      <th>2022-02-11 13:00:00</th>\n",
       "      <td>6.521878e+05</td>\n",
       "      <td>2.955911e+05</td>\n",
       "      <td>3.741276e+05</td>\n",
       "      <td>4.800967e+05</td>\n",
       "      <td>4.995738e+05</td>\n",
       "      <td>1.584803e+06</td>\n",
       "      <td>-9.873880e+04</td>\n",
       "      <td>1.179757e+06</td>\n",
       "      <td>1.031841e+06</td>\n",
       "      <td>4.159367e+05</td>\n",
       "      <td>...</td>\n",
       "      <td>1.372591e+06</td>\n",
       "      <td>1.306696e+06</td>\n",
       "      <td>6.394788e+05</td>\n",
       "      <td>6.803029e+05</td>\n",
       "      <td>5.756530e+05</td>\n",
       "      <td>6.008684e+05</td>\n",
       "      <td>2.463446e+05</td>\n",
       "      <td>6.338162e+05</td>\n",
       "      <td>1.040108e+06</td>\n",
       "      <td>1.004782e+06</td>\n",
       "    </tr>\n",
       "    <tr>\n",
       "      <th>2022-02-11 14:00:00</th>\n",
       "      <td>9.818727e+05</td>\n",
       "      <td>1.401407e+06</td>\n",
       "      <td>6.278580e+05</td>\n",
       "      <td>1.540642e+06</td>\n",
       "      <td>7.379792e+05</td>\n",
       "      <td>9.621891e+05</td>\n",
       "      <td>1.303348e+06</td>\n",
       "      <td>1.306518e+06</td>\n",
       "      <td>6.933143e+05</td>\n",
       "      <td>1.436222e+06</td>\n",
       "      <td>...</td>\n",
       "      <td>1.673705e+06</td>\n",
       "      <td>2.049235e+06</td>\n",
       "      <td>6.810229e+05</td>\n",
       "      <td>7.839749e+05</td>\n",
       "      <td>1.888354e+06</td>\n",
       "      <td>5.954157e+05</td>\n",
       "      <td>5.539249e+05</td>\n",
       "      <td>1.735490e+06</td>\n",
       "      <td>1.495662e+06</td>\n",
       "      <td>9.269474e+05</td>\n",
       "    </tr>\n",
       "    <tr>\n",
       "      <th>2022-02-11 15:00:00</th>\n",
       "      <td>7.800493e+05</td>\n",
       "      <td>6.834265e+05</td>\n",
       "      <td>8.261629e+05</td>\n",
       "      <td>2.505578e+05</td>\n",
       "      <td>1.228073e+06</td>\n",
       "      <td>1.239210e+06</td>\n",
       "      <td>1.084346e+06</td>\n",
       "      <td>1.147520e+06</td>\n",
       "      <td>1.145728e+06</td>\n",
       "      <td>1.233379e+06</td>\n",
       "      <td>...</td>\n",
       "      <td>8.740778e+05</td>\n",
       "      <td>9.273301e+05</td>\n",
       "      <td>1.663515e+06</td>\n",
       "      <td>1.564655e+06</td>\n",
       "      <td>4.959054e+05</td>\n",
       "      <td>1.722500e+06</td>\n",
       "      <td>1.381114e+06</td>\n",
       "      <td>9.182470e+05</td>\n",
       "      <td>-1.350229e+05</td>\n",
       "      <td>1.169486e+06</td>\n",
       "    </tr>\n",
       "  </tbody>\n",
       "</table>\n",
       "<p>1000 rows × 2000 columns</p>\n",
       "</div>"
      ],
      "text/plain": [
       "                             4002          4003          4004          4005  \\\n",
       "2022-01-01 00:00:00  1.522690e+06  7.365325e+05  1.883955e+06  1.747342e+06   \n",
       "2022-01-01 01:00:00  8.881127e+05  1.053687e+06  3.734167e+05  1.614773e+06   \n",
       "2022-01-01 02:00:00  9.811829e+05  1.413438e+06  9.972503e+05  1.233187e+06   \n",
       "2022-01-01 03:00:00  1.594312e+06  1.711561e+06  7.238942e+05  6.706983e+05   \n",
       "2022-01-01 04:00:00  4.667720e+05  1.128695e+06  1.028832e+06  5.444642e+05   \n",
       "...                           ...           ...           ...           ...   \n",
       "2022-02-11 11:00:00  6.554215e+05  1.519971e+06  7.346373e+05  2.468342e+05   \n",
       "2022-02-11 12:00:00  1.059431e+06  6.340614e+05  1.400879e+06  1.494647e+05   \n",
       "2022-02-11 13:00:00  6.521878e+05  2.955911e+05  3.741276e+05  4.800967e+05   \n",
       "2022-02-11 14:00:00  9.818727e+05  1.401407e+06  6.278580e+05  1.540642e+06   \n",
       "2022-02-11 15:00:00  7.800493e+05  6.834265e+05  8.261629e+05  2.505578e+05   \n",
       "\n",
       "                             4006          4007          4008          4009  \\\n",
       "2022-01-01 00:00:00  1.235460e+06  1.250241e+06  1.067713e+06  1.307628e+06   \n",
       "2022-01-01 01:00:00  1.348900e+06  3.942241e+05  9.418381e+05 -1.287045e+05   \n",
       "2022-01-01 02:00:00  1.295709e+06  3.746883e+05  1.720246e+06  1.248101e+06   \n",
       "2022-01-01 03:00:00  2.852392e+05  8.300269e+05  1.148656e+06  1.037572e+06   \n",
       "2022-01-01 04:00:00  1.052969e+05  5.439632e+05  1.916725e+06  1.075958e+06   \n",
       "...                           ...           ...           ...           ...   \n",
       "2022-02-11 11:00:00  1.391215e+06  2.756525e+05  1.064843e+06  1.632632e+06   \n",
       "2022-02-11 12:00:00  8.775668e+05  1.161970e+06  9.090381e+05  6.548579e+05   \n",
       "2022-02-11 13:00:00  4.995738e+05  1.584803e+06 -9.873880e+04  1.179757e+06   \n",
       "2022-02-11 14:00:00  7.379792e+05  9.621891e+05  1.303348e+06  1.306518e+06   \n",
       "2022-02-11 15:00:00  1.228073e+06  1.239210e+06  1.084346e+06  1.147520e+06   \n",
       "\n",
       "                             4010          4011  ...          5992  \\\n",
       "2022-01-01 00:00:00  1.168910e+06  1.218901e+06  ...  1.589131e+06   \n",
       "2022-01-01 01:00:00  7.848680e+05  1.169359e+06  ...  4.982993e+05   \n",
       "2022-01-01 02:00:00  4.639225e+05  9.123818e+05  ...  1.866030e+06   \n",
       "2022-01-01 03:00:00  1.086457e+06  1.633151e+06  ...  1.190132e+06   \n",
       "2022-01-01 04:00:00  9.885185e+05  1.375559e+06  ...  5.633235e+05   \n",
       "...                           ...           ...  ...           ...   \n",
       "2022-02-11 11:00:00  2.255325e+06  3.975464e+05  ...  3.516876e+05   \n",
       "2022-02-11 12:00:00  5.131747e+05  2.268062e+05  ...  3.092005e+05   \n",
       "2022-02-11 13:00:00  1.031841e+06  4.159367e+05  ...  1.372591e+06   \n",
       "2022-02-11 14:00:00  6.933143e+05  1.436222e+06  ...  1.673705e+06   \n",
       "2022-02-11 15:00:00  1.145728e+06  1.233379e+06  ...  8.740778e+05   \n",
       "\n",
       "                             5993          5994          5995          5996  \\\n",
       "2022-01-01 00:00:00  1.702425e+06  1.148132e+06  8.532146e+05  7.044042e+05   \n",
       "2022-01-01 01:00:00  9.892282e+05  6.087048e+05  1.143115e+06  1.496269e+06   \n",
       "2022-01-01 02:00:00  1.744288e+06  1.412359e+06  7.322985e+05  8.552735e+05   \n",
       "2022-01-01 03:00:00  1.383107e+06  7.801834e+05  9.776243e+05  2.293418e+06   \n",
       "2022-01-01 04:00:00  5.196102e+05  4.177027e+05  1.353726e+06  7.087020e+05   \n",
       "...                           ...           ...           ...           ...   \n",
       "2022-02-11 11:00:00  9.236746e+05  1.067935e+06  1.237977e+06  4.839377e+05   \n",
       "2022-02-11 12:00:00  8.351009e+05  1.194604e+05  1.132886e+06  3.542770e+05   \n",
       "2022-02-11 13:00:00  1.306696e+06  6.394788e+05  6.803029e+05  5.756530e+05   \n",
       "2022-02-11 14:00:00  2.049235e+06  6.810229e+05  7.839749e+05  1.888354e+06   \n",
       "2022-02-11 15:00:00  9.273301e+05  1.663515e+06  1.564655e+06  4.959054e+05   \n",
       "\n",
       "                             5997          5998          5999          6000  \\\n",
       "2022-01-01 00:00:00  8.186826e+05  8.116150e+05  7.100930e+05  1.203160e+06   \n",
       "2022-01-01 01:00:00  1.504554e+06  4.250855e+05  9.431208e+05  1.697681e+06   \n",
       "2022-01-01 02:00:00  9.632037e+05  1.006114e+06  6.947516e+05  7.969410e+05   \n",
       "2022-01-01 03:00:00  9.743710e+05  1.804552e+06  7.211640e+05  1.145045e+06   \n",
       "2022-01-01 04:00:00  7.139034e+05  8.842609e+05  7.882466e+05 -8.232680e+04   \n",
       "...                           ...           ...           ...           ...   \n",
       "2022-02-11 11:00:00  1.140204e+06  1.391819e+06  1.668330e+06  6.788123e+05   \n",
       "2022-02-11 12:00:00  8.243507e+05  6.221985e+05  1.249335e+06  8.687152e+05   \n",
       "2022-02-11 13:00:00  6.008684e+05  2.463446e+05  6.338162e+05  1.040108e+06   \n",
       "2022-02-11 14:00:00  5.954157e+05  5.539249e+05  1.735490e+06  1.495662e+06   \n",
       "2022-02-11 15:00:00  1.722500e+06  1.381114e+06  9.182470e+05 -1.350229e+05   \n",
       "\n",
       "                             6001  \n",
       "2022-01-01 00:00:00  1.149239e+06  \n",
       "2022-01-01 01:00:00  1.585010e+06  \n",
       "2022-01-01 02:00:00  1.487227e+06  \n",
       "2022-01-01 03:00:00  1.421976e+06  \n",
       "2022-01-01 04:00:00  1.445546e+06  \n",
       "...                           ...  \n",
       "2022-02-11 11:00:00  1.408043e+06  \n",
       "2022-02-11 12:00:00  2.072785e+05  \n",
       "2022-02-11 13:00:00  1.004782e+06  \n",
       "2022-02-11 14:00:00  9.269474e+05  \n",
       "2022-02-11 15:00:00  1.169486e+06  \n",
       "\n",
       "[1000 rows x 2000 columns]"
      ]
     },
     "metadata": {},
     "output_type": "display_data"
    }
   ],
   "source": [
    "# Generate random load profile oh hourly data\n",
    "n_scenarios = 1000\n",
    "n_loads = len(input_data[ComponentType.sym_load]) \n",
    "load_id = input_data[ComponentType.sym_load][\"id\"]\n",
    "load_p = input_data[ComponentType.sym_load][\"p_specified\"]\n",
    "profile = np.tile(load_p, (n_scenarios, 1)) + 5e5 * np.random.randn(n_scenarios, n_loads)\n",
    "dti = dti = pd.date_range(\"2022-01-01\", periods=n_scenarios, freq=\"h\")\n",
    "df_load_profile = pd.DataFrame(profile, columns=load_id, index=dti)\n",
    "display(df_load_profile)"
   ]
  },
  {
   "attachments": {},
   "cell_type": "markdown",
   "id": "613233fa",
   "metadata": {},
   "source": [
    "## Run Time Series Calculation\n",
    "\n",
    "We want to run a time-series load flow batch calculation using the dataframe.\n",
    "\n",
    "* Convert the load profile into the compatible batch update dataset.\n",
    "* Run the batch calculation.\n",
    "* Compare the calculation methods `newton_raphson` and `linear`."
   ]
  },
  {
   "cell_type": "code",
   "execution_count": 10,
   "id": "0600bd55",
   "metadata": {},
   "outputs": [],
   "source": [
    "# Initialize an empty load profile\n",
    "load_profile = initialize_array(DatasetType.update, ComponentType.sym_load, df_load_profile.shape)\n",
    "\n",
    "# Set the attributes for the batch calculation (assume q_specified = 0.0)\n",
    "load_profile[\"id\"] = df_load_profile.columns.to_numpy()\n",
    "load_profile[\"p_specified\"] = df_load_profile.to_numpy()\n",
    "load_profile[\"q_specified\"] = 0.0\n",
    "\n",
    "# Construct the update data\n",
    "update_data = {ComponentType.sym_load: load_profile}"
   ]
  },
  {
   "cell_type": "code",
   "execution_count": 11,
   "id": "9f88ba5f",
   "metadata": {},
   "outputs": [
    {
     "name": "stdout",
     "output_type": "stream",
     "text": [
      "Execution time for Validating Batch Data is 2.216290 s\n"
     ]
    }
   ],
   "source": [
    "# Validating batch data can take a long time.\n",
    "# It is recommended to only validate batch data when you run into trouble.\n",
    "with Timer(\"Validating Batch Data\"):\n",
    "    assert_valid_batch_data(input_data=input_data, update_data=update_data, calculation_type=CalculationType.power_flow)"
   ]
  },
  {
   "cell_type": "code",
   "execution_count": 12,
   "id": "e7ee773c",
   "metadata": {},
   "outputs": [
    {
     "name": "stdout",
     "output_type": "stream",
     "text": [
      "Execution time for Batch Calculation using Newton-Raphson is 1.261293 s\n"
     ]
    }
   ],
   "source": [
    "# Run Newton Raphson power flow (this may take a minute...)\n",
    "with Timer(\"Batch Calculation using Newton-Raphson\"):\n",
    "    output_data = model.calculate_power_flow(update_data=update_data, calculation_method=CalculationMethod.newton_raphson)"
   ]
  },
  {
   "cell_type": "code",
   "execution_count": 13,
   "id": "251e2edd",
   "metadata": {},
   "outputs": [
    {
     "name": "stdout",
     "output_type": "stream",
     "text": [
      "Execution time for Batch Calculation using linear calculation is 0.610796 s\n"
     ]
    }
   ],
   "source": [
    "# Run linear power flow\n",
    "with Timer(\"Batch Calculation using linear calculation\"):\n",
    "    output_data_linear = model.calculate_power_flow(update_data=update_data, calculation_method=CalculationMethod.linear)"
   ]
  },
  {
   "attachments": {},
   "cell_type": "markdown",
   "id": "9ee15d9b",
   "metadata": {},
   "source": [
    "## Plotting batch results\n",
    "\n",
    "Lets say we wish to plot the loading of the `line with id 2007` vs time. We can use matplotlib to do so. (Note: The grid and results are randomly generated so dont be alarmed to see loading >100% or other unrealistic result)  "
   ]
  },
  {
   "cell_type": "code",
   "execution_count": 14,
   "id": "93d0888d",
   "metadata": {},
   "outputs": [
    {
     "data": {
      "image/png": "[encoded data removed]",
      "text/plain": [
       "<Figure size 640x480 with 1 Axes>"
      ]
     },
     "metadata": {},
     "output_type": "display_data"
    }
   ],
   "source": [
    "# Plot the loading of line with id 2007 vs time.\n",
    "line_2007_idx = np.where(output_data[ComponentType.line][\"id\"] == 2007)\n",
    "result_loading = output_data[ComponentType.line][\"loading\"][line_2007_idx]\n",
    "plt.plot(result_loading)\n",
    "plt.title('Loading of line with id 2007')\n",
    "plt.xlabel('Time')\n",
    "plt.ylabel('Loading')\n",
    "plt.show()"
   ]
  },
  {
   "attachments": {},
   "cell_type": "markdown",
   "id": "39673a43",
   "metadata": {},
   "source": [
    "## Indexing the results\n",
    "\n",
    "Find the time stamps where loading in `line with id 2007` is greater than `90%`"
   ]
  },
  {
   "cell_type": "code",
   "execution_count": 15,
   "id": "8bef255c",
   "metadata": {
    "scrolled": false
   },
   "outputs": [
    {
     "data": {
      "text/plain": [
       "DatetimeIndex(['2022-01-03 18:00:00', '2022-01-06 10:00:00',\n",
       "               '2022-01-09 05:00:00', '2022-01-11 03:00:00',\n",
       "               '2022-01-28 16:00:00', '2022-02-08 07:00:00',\n",
       "               '2022-02-09 20:00:00'],\n",
       "              dtype='datetime64[ns]', freq=None)"
      ]
     },
     "execution_count": 15,
     "metadata": {},
     "output_type": "execute_result"
    }
   ],
   "source": [
    "# Times when loading of line with id 2007 when its greater than 90%\n",
    "ind = np.where(result_loading > 0.9)\n",
    "df_load_profile.index[ind]"
   ]
  },
  {
   "attachments": {},
   "cell_type": "markdown",
   "id": "eb7ab8b5",
   "metadata": {},
   "source": [
    "# Assignment 6: N-1 Scenario Batch Calculation\n",
    "\n",
    "We want to run a N-1 Scenario analysis. For each batch calculation, one `line` is disconnected at from- and to-side."
   ]
  },
  {
   "cell_type": "code",
   "execution_count": 16,
   "id": "28b46e3a",
   "metadata": {},
   "outputs": [],
   "source": [
    "n_lines = len(input_data[ComponentType.line])\n",
    "\n",
    "# Initialize an empty line profile\n",
    "line_profile = initialize_array(DatasetType.update, ComponentType.line, (n_lines, n_lines))\n",
    "\n",
    "# Set the attributes for the batch calculation\n",
    "line_profile[\"id\"] =  input_data[ComponentType.line][\"id\"]\n",
    "line_profile[\"from_status\"] = 1 - np.eye(n_lines, dtype=np.uint8)\n",
    "line_profile[\"to_status\"] = 1 - np.eye(n_lines, dtype=np.uint8)\n",
    "\n",
    "# Construct the update data\n",
    "update_data = {ComponentType.line: line_profile}"
   ]
  },
  {
   "cell_type": "code",
   "execution_count": 17,
   "id": "5fa9c6ca",
   "metadata": {},
   "outputs": [
    {
     "name": "stdout",
     "output_type": "stream",
     "text": [
      "Execution time for Validating Batch Data is 3.770749 s\n"
     ]
    }
   ],
   "source": [
    "# Validating batch data can take a long time.\n",
    "# It is recommended to only validate batch data when you run into trouble.\n",
    "with Timer(\"Validating Batch Data\"):\n",
    "    assert_valid_batch_data(input_data=input_data, update_data=update_data, calculation_type=CalculationType.power_flow)"
   ]
  },
  {
   "cell_type": "code",
   "execution_count": 18,
   "id": "3337a5cb",
   "metadata": {},
   "outputs": [
    {
     "name": "stdout",
     "output_type": "stream",
     "text": [
      "Execution time for Batch Calculation using Newton-Raphson is 4.393309 s\n"
     ]
    }
   ],
   "source": [
    "# Run Newton Raphson power flow (this may take a minute...)\n",
    "with Timer(\"Batch Calculation using Newton-Raphson\"):\n",
    "    model.calculate_power_flow(update_data=update_data, calculation_method=CalculationMethod.newton_raphson)"
   ]
  },
  {
   "cell_type": "code",
   "execution_count": 19,
   "id": "f7ba9924",
   "metadata": {},
   "outputs": [
    {
     "name": "stdout",
     "output_type": "stream",
     "text": [
      "Execution time for Batch Calculation using linear calculation is 2.711576 s\n"
     ]
    }
   ],
   "source": [
    "# Run linear power flow\n",
    "with Timer(\"Batch Calculation using linear calculation\"):\n",
    "    model.calculate_power_flow(update_data=update_data, calculation_method=CalculationMethod.linear)"
   ]
  },
  {
   "attachments": {},
   "cell_type": "markdown",
   "id": "6af43b69",
   "metadata": {},
   "source": [
    "## Parallel processing\n",
    "The `calculate_power_flow` method has an optional `threading` argument to define the number of threads ran in parallel. Experiment with different threading values and compare the results..."
   ]
  },
  {
   "cell_type": "code",
   "execution_count": 20,
   "id": "9f1a3d88",
   "metadata": {},
   "outputs": [
    {
     "name": "stdout",
     "output_type": "stream",
     "text": [
      "Execution time for Sequential is 4.250867 s\n",
      "Execution time for Single thread is 4.385878 s\n",
      "Execution time for Two threads in parallel is 2.271115 s\n",
      "Execution time for Four threads in parallel is 1.146302 s\n",
      "Execution time for Use number of threads based the machine hardware is 0.559351 s\n"
     ]
    }
   ],
   "source": [
    "# By default, sequential threading is used\n",
    "with Timer(\"Sequential\"):\n",
    "    model.calculate_power_flow(update_data=update_data)\n",
    "\n",
    "# Single thread, this is essentially the same as running a single thread\n",
    "with Timer(\"Single thread\"):\n",
    "    model.calculate_power_flow(update_data=update_data, threading=1)\n",
    "\n",
    "# Two threads should be faster    \n",
    "with Timer(\"Two threads in parallel\"):\n",
    "    model.calculate_power_flow(update_data=update_data, threading=2)\n",
    "\n",
    "# Four threads should be even faster    \n",
    "with Timer(\"Four threads in parallel\"):\n",
    "    model.calculate_power_flow(update_data=update_data, threading=4)\n",
    "\n",
    "# Use number of threads based the machine hardware    \n",
    "with Timer(\"Use number of threads based the machine hardware\"):\n",
    "    model.calculate_power_flow(update_data=update_data, threading=0)"
   ]
  }
 ],
 "metadata": {
  "kernelspec": {
   "display_name": "Python 3 (ipykernel)",
   "language": "python",
   "name": "python3"
  },
  "language_info": {
   "codemirror_mode": {
    "name": "ipython",
    "version": 3
   },
   "file_extension": ".py",
   "mimetype": "text/x-python",
   "name": "python",
   "nbconvert_exporter": "python",
   "pygments_lexer": "ipython3",
   "version": "3.11.2"
  },
  "vscode": {
   "interpreter": {
    "hash": "f2534ebf7a1a13ecc51c3a04ce741b49cf1feb97b5ca55170ed7b2036b4058c0"
   }
  }
 },
 "nbformat": 4,
 "nbformat_minor": 5
}
